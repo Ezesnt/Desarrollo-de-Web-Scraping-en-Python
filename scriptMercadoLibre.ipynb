{
 "cells": [
  {
   "cell_type": "code",
   "execution_count": 61,
   "metadata": {},
   "outputs": [
    {
     "name": "stdout",
     "output_type": "stream",
     "text": [
      "No hay más páginas para mostrar o el botón no es clickeable.\n",
      "Datos guardados en 'mercadolibre_ofertas.csv'\n"
     ]
    }
   ],
   "source": [
    "import pandas as pd\n",
    "from bs4 import BeautifulSoup\n",
    "from selenium import webdriver\n",
    "from selenium.webdriver.chrome.service import Service\n",
    "from selenium.webdriver.chrome.options import Options\n",
    "from selenium.webdriver.common.by import By\n",
    "from selenium.webdriver.support.ui import WebDriverWait\n",
    "from selenium.webdriver.support import expected_conditions as EC\n",
    "from webdriver_manager.chrome import ChromeDriverManager\n",
    "\n",
    "# Configuración de opciones para Chrome\n",
    "chrome_options = Options()\n",
    "\n",
    "# Configuración del servicio de ChromeDriver\n",
    "service = Service(ChromeDriverManager().install())\n",
    "\n",
    "# Inicialización del WebDriver con el servicio y las opciones configuradas\n",
    "driver = webdriver.Chrome(service=service, options=chrome_options)\n",
    "\n",
    "url = \"https://www.mercadolibre.com.ar/ofertas#nav-header\"\n",
    "\n",
    "# Abrir la URL\n",
    "driver.get(url)\n",
    "\n",
    "# Aceptar cookies si el banner está visible\n",
    "try:\n",
    "    cookie_banner = driver.find_element(By.CLASS_NAME, \"cookie-consent-banner-opt-out__action\")\n",
    "    if cookie_banner.is_displayed():\n",
    "        cookie_banner.click()\n",
    "except:\n",
    "    pass\n",
    "\n",
    "# Lista para acumular los datos\n",
    "data = []\n",
    "\n",
    "# Procesos a ejecutar con el driver abierto\n",
    "for i in range(20):\n",
    "    # Extraer el contenido de la página con BeautifulSoup\n",
    "    soup = BeautifulSoup(driver.page_source, 'html.parser')\n",
    "    \n",
    "    # Encontrar los elementos deseados\n",
    "    nombres = soup.findAll(class_=\"promotion-item__title\")\n",
    "    precios = soup.findAll(class_=\"andes-money-amount__fraction\")\n",
    "    descuentos = soup.findAll(class_=\"promotion-item__discount-text\")\n",
    "    \n",
    "    # Acumular los resultados en la lista\n",
    "    for nombre, precio, descuento in zip(nombres, precios, descuentos):\n",
    "        data.append({\n",
    "            'Nombre': nombre.text.strip(),\n",
    "            'Precio': precio.text.strip(),\n",
    "            'Descuento': descuento.text.strip()\n",
    "        })\n",
    "    \n",
    "    # Verificar si el botón de siguiente página está disponible\n",
    "    try:\n",
    "        boton = WebDriverWait(driver, 10).until(\n",
    "            EC.element_to_be_clickable((By.CSS_SELECTOR, '.andes-pagination__button.andes-pagination__button--next'))\n",
    "        )\n",
    "        boton.click()\n",
    "    except:\n",
    "        print(\"No hay más páginas para mostrar o el botón no es clickeable.\")\n",
    "        break\n",
    "\n",
    "# Cerrar el navegador\n",
    "driver.quit()\n",
    "\n",
    "# Crear un DataFrame de pandas con los datos recopilados\n",
    "df = pd.DataFrame(data)\n",
    "\n",
    "# Guardar el DataFrame en un archivo CSV\n",
    "df.to_csv('mercadolibre_ofertas.csv', index=False, encoding='utf-8')\n",
    "\n",
    "print(\"Datos guardados en 'mercadolibre_ofertas.csv'\")\n"
   ]
  }
 ],
 "metadata": {
  "kernelspec": {
   "display_name": "Python 3",
   "language": "python",
   "name": "python3"
  },
  "language_info": {
   "codemirror_mode": {
    "name": "ipython",
    "version": 3
   },
   "file_extension": ".py",
   "mimetype": "text/x-python",
   "name": "python",
   "nbconvert_exporter": "python",
   "pygments_lexer": "ipython3",
   "version": "3.12.5"
  }
 },
 "nbformat": 4,
 "nbformat_minor": 2
}
